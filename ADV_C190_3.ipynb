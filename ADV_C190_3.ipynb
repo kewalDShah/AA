{
  "nbformat": 4,
  "nbformat_minor": 0,
  "metadata": {
    "colab": {
      "name": "ADV_C190.3.ipynb",
      "provenance": [],
      "collapsed_sections": [],
      "include_colab_link": true
    },
    "kernelspec": {
      "name": "python3",
      "display_name": "Python 3"
    }
  },
  "cells": [
    {
      "cell_type": "markdown",
      "metadata": {
        "id": "view-in-github",
        "colab_type": "text"
      },
      "source": [
        "<a href=\"https://colab.research.google.com/github/kewalDShah/AA/blob/main/ADV_C190_3.ipynb\" target=\"_parent\"><img src=\"https://colab.research.google.com/assets/colab-badge.svg\" alt=\"Open In Colab\"/></a>"
      ]
    },
    {
      "cell_type": "code",
      "metadata": {
        "id": "ePGh1t736pRc"
      },
      "source": [
        "#Additional-Activity-3\n",
        "#The \"Launch Mass.csv\" file is sorted in ascending order\n",
        "#Read the csv such that you get the 5 least heavy Launch Vehicle name and they weight and convert it into list and print them\n",
        "\n",
        "#predefine code\n",
        "import pandas as pd\n",
        "from matplotlib import pyplot as plt\n",
        "df = pd.read_csv('https://shravantihable.github.io/AA/Launch%20Mass.csv')\n",
        "df\n",
        "#predefine code end\n",
        "\n",
        "#from the dataframe df retrieve the first five rows using the head() function and store it in variable recent_satellites least_heavy_5\n",
        "\n",
        "\n",
        "#retrive the values of the column 'Launch Mass' which is present in the least_heavy_5. And convert it into list using tolist() function and store it in a in variable mass.\n",
        "\n",
        "\n",
        "#retrive the values of the column 'Launch Vehicle' which is present in the least_heavy_5. And convert it into list using tolist() function and store it in a in variable launch_vehicle.\n",
        "\n",
        "\n",
        "#print the variable mass which contains the list of vehicle mass present in the Launch Mass column.\n",
        "\n",
        "#print the variable mass which contains the list of vehicles present in the Launch Vehicle column.\n",
        "\n"
      ],
      "execution_count": null,
      "outputs": []
    }
  ]
}