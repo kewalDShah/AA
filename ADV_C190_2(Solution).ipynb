{
  "nbformat": 4,
  "nbformat_minor": 0,
  "metadata": {
    "colab": {
      "name": "ADV_C190.2(Solution).ipynb",
      "provenance": [],
      "authorship_tag": "ABX9TyOze4FGDoKGqvWMhj5M+wut",
      "include_colab_link": true
    },
    "kernelspec": {
      "name": "python3",
      "display_name": "Python 3"
    },
    "language_info": {
      "name": "python"
    }
  },
  "cells": [
    {
      "cell_type": "markdown",
      "metadata": {
        "id": "view-in-github",
        "colab_type": "text"
      },
      "source": [
        "<a href=\"https://colab.research.google.com/github/kewalDShah/AA/blob/main/ADV_C190_2(Solution).ipynb\" target=\"_parent\"><img src=\"https://colab.research.google.com/assets/colab-badge.svg\" alt=\"Open In Colab\"/></a>"
      ]
    },
    {
      "cell_type": "code",
      "execution_count": null,
      "metadata": {
        "id": "CPIPU6H8VMlT"
      },
      "outputs": [],
      "source": [
        "#Additional-Activity-2\n",
        "#The  \"Launch_Date.csv\" file is sorted in descending order\n",
        "#So read the CSV and get the name and date of the Satellites which was launched earliest\n",
        "\n",
        "#predefine code\n",
        "import pandas as pd\n",
        "from matplotlib import pyplot as plt\n",
        "df = pd.read_csv('https://shravantihable.github.io/AA/Launch_Date.csv')\n",
        "\n",
        "#predefine code end\n",
        "\n",
        "#from the dataframe df retrive the last row using the tail() function and store it in variable earliest_satellites.\n",
        "earliest_satellites = df.tail(1)\n",
        "\n",
        "#inside the print() function write the string as \"Oldest On : \"\n",
        "print(\"Oldest On : \")\n",
        "#inside the print() function access the values of column 'Launch Date' which is present in dataset earliest_satellites, by writing the 'Launch Date' inside square bracktes.\n",
        "print (earliest_satellites['Launch Date'])\n",
        "#inside the print() function access the values of column 'Name' which is present in dataset earliest_satellites, by writing the 'Name' inside square bracktes.\n",
        "print(earliest_satellites['Name'])\n",
        "#inside the print() function write the string \"Satellites had launched\" to indicate that this satalite had launched recently.\n",
        "print(\"Satellites had launched\")"
      ]
    }
  ]
}