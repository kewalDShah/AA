{
  "nbformat": 4,
  "nbformat_minor": 0,
  "metadata": {
    "colab": {
      "name": "ADV-C190.5.ipynb",
      "provenance": [],
      "collapsed_sections": [],
      "include_colab_link": true
    },
    "kernelspec": {
      "name": "python3",
      "display_name": "Python 3"
    }
  },
  "cells": [
    {
      "cell_type": "markdown",
      "metadata": {
        "id": "view-in-github",
        "colab_type": "text"
      },
      "source": [
        "<a href=\"https://colab.research.google.com/github/kewalDShah/AA/blob/main/ADV_C190_5.ipynb\" target=\"_parent\"><img src=\"https://colab.research.google.com/assets/colab-badge.svg\" alt=\"Open In Colab\"/></a>"
      ]
    },
    {
      "cell_type": "code",
      "metadata": {
        "id": "4aQQG4gGAOMK"
      },
      "source": [
        "#Additional-Activity-5\n",
        "#The \"Launch Mass.csv\" file is sorted in ascending order\n",
        "#Plot the 5 heaviest Launch Vehicle name and the weight\n",
        "\n",
        "#predefine code\n",
        "import pandas as pd\n",
        "from matplotlib import pyplot as plt\n",
        "df = pd.read_csv('https://shravantihable.github.io/AA/Launch%20Mass.csv')\n",
        "df\n",
        "#predefine code end\n",
        "\n",
        "\n",
        "#from the dataframe df retrieve the last five rows using the tail() function and store it in variable heaviest_5.\n",
        "\n",
        "#retrive the values of the column 'Launch Mass' which is present in the heaviest_5 variable and store it in variable mass.\n",
        "\n",
        "#retrive the values of the column 'Launch Vehicle' which is present in the heaviest_5 variable and store it in variable launch_vehicle .\n",
        "\n",
        "#print the variable mass which contains the vehicle mass.\n",
        "\n",
        "#print the variable launch_vehicle which contains vehicles details\n",
        "\n",
        "\n",
        "# give the name to the x axis as \"Launch Vehicle\" using the plt.xlabel() function.\n",
        "\n",
        "#to make the xlabels appear vertically, set the rotation as 'vertical' using the plt.xticks() function.\n",
        "\n",
        "#give the name to the y axis as \"Launch Mass\" using the plt.ylabel() function.\n",
        "\n",
        "\n",
        "#define a variable label and inside it store the launch_vehicle variable which holds the vehicle details\n",
        "\n",
        "#define a variable value and inside it store the mass variable which holds the vehicle mass\n",
        "\n",
        "#plot the bar graph using the plt.bar() function. And set the parameters of the plt.bar() function in the given order:\n",
        "#label\n",
        "#value\n",
        "#width\n",
        "#color\n",
        "#bar-grap"
      ],
      "execution_count": null,
      "outputs": []
    }
  ]
}